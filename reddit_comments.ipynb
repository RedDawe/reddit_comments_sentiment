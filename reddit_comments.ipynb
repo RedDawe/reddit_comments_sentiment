{
  "nbformat": 4,
  "nbformat_minor": 0,
  "metadata": {
    "colab": {
      "name": "reddit_comments.ipynb",
      "provenance": [],
      "collapsed_sections": [],
      "authorship_tag": "ABX9TyOTaciiBxBgFNkiaPBEyAZg",
      "include_colab_link": true
    },
    "kernelspec": {
      "name": "python3",
      "display_name": "Python 3"
    }
  },
  "cells": [
    {
      "cell_type": "markdown",
      "metadata": {
        "id": "view-in-github",
        "colab_type": "text"
      },
      "source": [
        "<a href=\"https://colab.research.google.com/github/RedDawe/reddit_comments_sentiment/blob/main/reddit_comments.ipynb\" target=\"_parent\"><img src=\"https://colab.research.google.com/assets/colab-badge.svg\" alt=\"Open In Colab\"/></a>"
      ]
    },
    {
      "cell_type": "code",
      "metadata": {
        "id": "eKvp_7utNrG3"
      },
      "source": [
        "!pip install praw"
      ],
      "execution_count": null,
      "outputs": []
    },
    {
      "cell_type": "code",
      "metadata": {
        "id": "o_t3qYRaPZ6P"
      },
      "source": [
        "import requests\r\n",
        "import matplotlib.pyplot as plt\r\n",
        "import time"
      ],
      "execution_count": 61,
      "outputs": []
    },
    {
      "cell_type": "code",
      "metadata": {
        "colab": {
          "base_uri": "https://localhost:8080/"
        },
        "id": "RvD5JFaqNf_v",
        "outputId": "dc20969e-53fb-4a58-a8b7-f243e6d548fa"
      },
      "source": [
        "# TAKEN FROM https://towardsdatascience.com/automate-sentiment-analysis-process-for-reddit-post-textblob-and-vader-8a79c269522f\r\n",
        "# API DOCS https://github.com/pushshift/api\r\n",
        "\r\n",
        "# PRAW to interact with reddit\r\n",
        "import praw\r\n",
        "#install textblob if not already installed using \"pip install -U textblob\"\r\n",
        "from textblob import TextBlob\r\n",
        "import nltk\r\n",
        "# Download VADER, if not downloaded\r\n",
        "# nltk.download('vader_lexicon')\r\n",
        "from nltk.sentiment.vader import SentimentIntensityAnalyzer\r\n",
        "\r\n",
        "# create object for VADER sentiment function interaction\r\n",
        "nltk.downloader.download('vader_lexicon')\r\n",
        "sia = SentimentIntensityAnalyzer()\r\n",
        "\r\n",
        "reddit = praw.Reddit(client_id='dwvhQN_PoUCoAw',\r\n",
        "                     client_secret='X8N_SZUsiI-CNVIYLToBFFQ-cYE',\r\n",
        "                     user_agent='news on hooks')\r\n",
        "\r\n",
        "# get 10 hot posts from the showerthoughts subreddit\r\n",
        "top_posts = reddit.subreddit('showerthoughts').top('week', limit=5)\r\n",
        "\r\n",
        "# Sentiment analysis function for TextBlob tools\r\n",
        "def text_blob_sentiment(review, sub_entries_textblob):\r\n",
        "    analysis = TextBlob(review)\r\n",
        "    if analysis.sentiment.polarity >= 0.0001:\r\n",
        "        if analysis.sentiment.polarity > 0:\r\n",
        "            sub_entries_textblob['positive'] = sub_entries_textblob['positive'] + 1\r\n",
        "            return 'Positive'\r\n",
        "\r\n",
        "    elif analysis.sentiment.polarity <= -0.0001:\r\n",
        "        if analysis.sentiment.polarity <= 0:\r\n",
        "            sub_entries_textblob['negative'] = sub_entries_textblob['negative'] + 1\r\n",
        "            return 'Negative'\r\n",
        "    else:\r\n",
        "        sub_entries_textblob['neutral'] = sub_entries_textblob['neutral'] + 1\r\n",
        "        return 'Neutral'\r\n",
        "    \r\n",
        "\r\n",
        "# sentiment analysis function for VADER tool\r\n",
        "def nltk_sentiment(review, sub_entries_nltk):\r\n",
        "    vs = sia.polarity_scores(review)\r\n",
        "    if not vs['neg'] > 0.05:\r\n",
        "        if vs['pos'] - vs['neg'] > 0:\r\n",
        "            sub_entries_nltk['positive'] = sub_entries_nltk['positive'] + 1\r\n",
        "            return 'Positive'\r\n",
        "        else:\r\n",
        "            sub_entries_nltk['neutral'] = sub_entries_nltk['neutral'] + 1\r\n",
        "            return 'Neutral'\r\n",
        "\r\n",
        "    elif not vs['pos'] > 0.05:\r\n",
        "        if vs['pos'] - vs['neg'] <= 0:\r\n",
        "            sub_entries_nltk['negative'] = sub_entries_nltk['negative'] + 1\r\n",
        "            return 'Negative'\r\n",
        "        else:\r\n",
        "            sub_entries_nltk['neutral'] = sub_entries_nltk['neutral'] + 1\r\n",
        "            return 'Neutral'\r\n",
        "    else:\r\n",
        "        sub_entries_nltk['neutral'] = sub_entries_nltk['neutral'] + 1\r\n",
        "        return 'Neutral'\r\n",
        "\r\n",
        "\r\n",
        "# replication of comment section of reddit post\r\n",
        "def replies_of(top_level_comment, count_comment, sub_entries_textblob, sub_entries_nltk):\r\n",
        "    if len(top_level_comment.replies) == 0:\r\n",
        "        count_comment = 0\r\n",
        "        return\r\n",
        "    else:\r\n",
        "        for num, comment in enumerate(top_level_comment.replies):\r\n",
        "            try:\r\n",
        "                count_comment += 1\r\n",
        "                print('-' * count_comment, comment.body)\r\n",
        "                text_blob_sentiment(comment.body, sub_entries_textblob)\r\n",
        "                nltk_sentiment(comment.body, sub_entries_nltk)\r\n",
        "            except:\r\n",
        "                continue\r\n",
        "            replies_of(comment, count_comment, sub_entries_textblob,sub_entries_nltk)\r\n",
        "\r\n",
        "\r\n",
        "def main():\r\n",
        "    \r\n",
        "    for submission in top_posts:\r\n",
        "        sub_entries_textblob = {'negative': 0, 'positive' : 0, 'neutral' : 0}\r\n",
        "        sub_entries_nltk = {'negative': 0, 'positive' : 0, 'neutral' : 0}\r\n",
        "        print('Title of the post :', submission.title)\r\n",
        "        text_blob_sentiment(submission.title, sub_entries_textblob)\r\n",
        "        nltk_sentiment(submission.title, sub_entries_nltk)\r\n",
        "        print(\"\\n\")\r\n",
        "        submission_comm = reddit.submission(id=submission.id)\r\n",
        "\r\n",
        "        for count, top_level_comment in enumerate(submission_comm.comments):\r\n",
        "            print(f\"-------------{count} top level comment start--------------\")\r\n",
        "            count_comm = 0\r\n",
        "            try :\r\n",
        "                print(top_level_comment.body)\r\n",
        "                text_blob_sentiment(top_level_comment.body, sub_entries_textblob)\r\n",
        "                nltk_sentiment(top_level_comment.body, sub_entries_nltk)\r\n",
        "                replies_of(top_level_comment,\r\n",
        "                           count_comm,\r\n",
        "                           sub_entries_textblob,\r\n",
        "                           sub_entries_nltk)\r\n",
        "            except:\r\n",
        "                continue\r\n",
        "        print('Over all Sentiment of Topic by TextBlob :', sub_entries_textblob)\r\n",
        "        print('Over all Sentiment of Topic by VADER :', sub_entries_nltk)\r\n",
        "        print(\"\\n\\n\\n\")\r\n",
        "\r\n",
        "# main()"
      ],
      "execution_count": 118,
      "outputs": [
        {
          "output_type": "stream",
          "text": [
            "[nltk_data] Downloading package vader_lexicon to /root/nltk_data...\n",
            "[nltk_data]   Package vader_lexicon is already up-to-date!\n"
          ],
          "name": "stdout"
        }
      ]
    },
    {
      "cell_type": "code",
      "metadata": {
        "id": "PywPdsiuTvvO"
      },
      "source": [
        "def get_sentiment_in_year(term='trump', after=1500, before=1499):\r\n",
        "  print('https://api.pushshift.io/reddit/search/comment/?q={term}&after={after}d&before={before}d&sort=desc&size=500&sort_type=score'.format(term=term, after=after, before=before))\r\n",
        "  son = requests.get('https://api.pushshift.io/reddit/search/comment/?q={term}&after={after}d&before={before}d&sort=desc&size=500&sort_type=score'.format(term=term, after=after, before=before)).json()\r\n",
        "\r\n",
        "  sub_entries_textblob = {'negative': 0, 'positive' : 0, 'neutral' : 0}\r\n",
        "  sub_entries_nltk = {'negative': 0, 'positive' : 0, 'neutral' : 0}\r\n",
        "  for com in son['data']:\r\n",
        "    text_blob_sentiment(com['body'], sub_entries_textblob)\r\n",
        "    nltk_sentiment(com['body'], sub_entries_nltk)\r\n",
        "\r\n",
        "  return sub_entries_textblob, sub_entries_nltk"
      ],
      "execution_count": 119,
      "outputs": []
    },
    {
      "cell_type": "code",
      "metadata": {
        "id": "j4q_DhibQ3BL"
      },
      "source": [
        "def visualize_dick(dct):\r\n",
        "  y = []\r\n",
        "  cnt = []\r\n",
        "  for year in dct:\r\n",
        "    y.append(year['positive']-year['negative'])\r\n",
        "    cnt.append(year['positive']+year['negative']+year['neutral'])\r\n",
        "\r\n",
        "  fig, (ax1, ax2) = plt.subplots(2)\r\n",
        "  ax1.plot(y)\r\n",
        "  ax2.plot(cnt)"
      ],
      "execution_count": 120,
      "outputs": []
    },
    {
      "cell_type": "code",
      "metadata": {
        "id": "ny11hGSUU-VH"
      },
      "source": [
        "def analisis(frames=5, step=365, size=365):\r\n",
        "  dcts0 = []\r\n",
        "  dcts1 = []\r\n",
        "  for year in range(0, frames*step, step):\r\n",
        "    dct0, dct1 = get_sentiment_in_year('tesla', year+size, year)\r\n",
        "    dcts0.append(dct0)\r\n",
        "    dcts1.append(dct1)\r\n",
        "    time.sleep(5)\r\n",
        "\r\n",
        "  visualize_dick(dcts0)\r\n",
        "  visualize_dick(dcts1)"
      ],
      "execution_count": 121,
      "outputs": []
    },
    {
      "cell_type": "code",
      "metadata": {
        "colab": {
          "base_uri": "https://localhost:8080/",
          "height": 598
        },
        "id": "FzKcS2mHXCCk",
        "outputId": "862aa41f-b0de-4305-a841-38cfcb771c71"
      },
      "source": [
        "analisis()"
      ],
      "execution_count": 122,
      "outputs": [
        {
          "output_type": "stream",
          "text": [
            "https://api.pushshift.io/reddit/search/comment/?q=tesla&after=365d&before=0d&sort=desc&size=500&sort_type=score\n",
            "https://api.pushshift.io/reddit/search/comment/?q=tesla&after=730d&before=365d&sort=desc&size=500&sort_type=score\n",
            "https://api.pushshift.io/reddit/search/comment/?q=tesla&after=1095d&before=730d&sort=desc&size=500&sort_type=score\n",
            "https://api.pushshift.io/reddit/search/comment/?q=tesla&after=1460d&before=1095d&sort=desc&size=500&sort_type=score\n",
            "https://api.pushshift.io/reddit/search/comment/?q=tesla&after=1825d&before=1460d&sort=desc&size=500&sort_type=score\n"
          ],
          "name": "stdout"
        },
        {
          "output_type": "display_data",
          "data": {
            "image/png": "[encoded data removed]",
            "text/plain": [
              "<Figure size 432x288 with 2 Axes>"
            ]
          },
          "metadata": {
            "tags": [],
            "needs_background": "light"
          }
        },
        {
          "output_type": "display_data",
          "data": {
            "image/png": "[encoded data removed]",
            "text/plain": [
              "<Figure size 432x288 with 2 Axes>"
            ]
          },
          "metadata": {
            "tags": [],
            "needs_background": "light"
          }
        }
      ]
    },
    {
      "cell_type": "code",
      "metadata": {
        "id": "BBcyB-QlhSuJ"
      },
      "source": [
        ""
      ],
      "execution_count": null,
      "outputs": []
    }
  ]
}